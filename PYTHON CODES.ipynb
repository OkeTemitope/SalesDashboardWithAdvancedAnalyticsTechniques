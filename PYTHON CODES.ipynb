{
 "cells": [
  {
   "cell_type": "code",
   "execution_count": 1,
   "id": "7cc4ca9d",
   "metadata": {},
   "outputs": [],
   "source": [
    "# Data manipulation\n",
    "import pandas as pd\n",
    "\n",
    "# Data visualization\n",
    "import matplotlib.pyplot as plt\n",
    "\n",
    "import seaborn as sns"
   ]
  },
  {
   "cell_type": "markdown",
   "id": "ad83f0f4",
   "metadata": {},
   "source": [
    "#### IMPORTING THE DATASET"
   ]
  },
  {
   "cell_type": "code",
   "execution_count": 2,
   "id": "cbd945bd",
   "metadata": {},
   "outputs": [
    {
     "data": {
      "text/html": [
       "<div>\n",
       "<style scoped>\n",
       "    .dataframe tbody tr th:only-of-type {\n",
       "        vertical-align: middle;\n",
       "    }\n",
       "\n",
       "    .dataframe tbody tr th {\n",
       "        vertical-align: top;\n",
       "    }\n",
       "\n",
       "    .dataframe thead th {\n",
       "        text-align: right;\n",
       "    }\n",
       "</style>\n",
       "<table border=\"1\" class=\"dataframe\">\n",
       "  <thead>\n",
       "    <tr style=\"text-align: right;\">\n",
       "      <th></th>\n",
       "      <th>Product</th>\n",
       "      <th>Product id</th>\n",
       "      <th>Segmentation</th>\n",
       "      <th>Qty</th>\n",
       "      <th>Sales</th>\n",
       "      <th>Month</th>\n",
       "    </tr>\n",
       "  </thead>\n",
       "  <tbody>\n",
       "    <tr>\n",
       "      <th>0</th>\n",
       "      <td>Peak Yoghurt Dr Plain Sweetened 24x100ml</td>\n",
       "      <td>1155370</td>\n",
       "      <td>ATOM-WS - Lockup Shop (Secondary Town)</td>\n",
       "      <td>30</td>\n",
       "      <td>39696.0</td>\n",
       "      <td>1</td>\n",
       "    </tr>\n",
       "    <tr>\n",
       "      <th>1</th>\n",
       "      <td>Peak Yoghurt Dr Plain Sweetened 24x100ml</td>\n",
       "      <td>1155370</td>\n",
       "      <td>GTOM-RT - Table Top</td>\n",
       "      <td>4</td>\n",
       "      <td>5292.8</td>\n",
       "      <td>1</td>\n",
       "    </tr>\n",
       "    <tr>\n",
       "      <th>2</th>\n",
       "      <td>Peak Yoghurt Dr Plain Sweetened 24x100ml</td>\n",
       "      <td>1155370</td>\n",
       "      <td>GTOM-RT - Table Top</td>\n",
       "      <td>2</td>\n",
       "      <td>2646.4</td>\n",
       "      <td>1</td>\n",
       "    </tr>\n",
       "    <tr>\n",
       "      <th>3</th>\n",
       "      <td>Peak Yoghurt Dr Plain Sweetened 24x100ml</td>\n",
       "      <td>1155370</td>\n",
       "      <td>GTOM-RT - Table Top</td>\n",
       "      <td>3</td>\n",
       "      <td>3969.6</td>\n",
       "      <td>1</td>\n",
       "    </tr>\n",
       "    <tr>\n",
       "      <th>4</th>\n",
       "      <td>Peak Yoghurt Dr Plain Sweetened 24x100ml</td>\n",
       "      <td>1155370</td>\n",
       "      <td>GTOM-RT - Table Top</td>\n",
       "      <td>10</td>\n",
       "      <td>13232.0</td>\n",
       "      <td>1</td>\n",
       "    </tr>\n",
       "  </tbody>\n",
       "</table>\n",
       "</div>"
      ],
      "text/plain": [
       "                                     Product  Product id  \\\n",
       "0   Peak Yoghurt Dr Plain Sweetened 24x100ml     1155370   \n",
       "1   Peak Yoghurt Dr Plain Sweetened 24x100ml     1155370   \n",
       "2   Peak Yoghurt Dr Plain Sweetened 24x100ml     1155370   \n",
       "3   Peak Yoghurt Dr Plain Sweetened 24x100ml     1155370   \n",
       "4   Peak Yoghurt Dr Plain Sweetened 24x100ml     1155370   \n",
       "\n",
       "                             Segmentation  Qty    Sales  Month  \n",
       "0  ATOM-WS - Lockup Shop (Secondary Town)   30  39696.0      1  \n",
       "1                     GTOM-RT - Table Top    4   5292.8      1  \n",
       "2                     GTOM-RT - Table Top    2   2646.4      1  \n",
       "3                     GTOM-RT - Table Top    3   3969.6      1  \n",
       "4                     GTOM-RT - Table Top   10  13232.0      1  "
      ]
     },
     "execution_count": 2,
     "metadata": {},
     "output_type": "execute_result"
    }
   ],
   "source": [
    "df = pd.read_csv('sales_data.csv')\n",
    "\n",
    "\n",
    "# first five rows\n",
    "\n",
    "df.head()"
   ]
  },
  {
   "cell_type": "code",
   "execution_count": 3,
   "id": "25b9a3cb",
   "metadata": {},
   "outputs": [
    {
     "data": {
      "text/html": [
       "<div>\n",
       "<style scoped>\n",
       "    .dataframe tbody tr th:only-of-type {\n",
       "        vertical-align: middle;\n",
       "    }\n",
       "\n",
       "    .dataframe tbody tr th {\n",
       "        vertical-align: top;\n",
       "    }\n",
       "\n",
       "    .dataframe thead th {\n",
       "        text-align: right;\n",
       "    }\n",
       "</style>\n",
       "<table border=\"1\" class=\"dataframe\">\n",
       "  <thead>\n",
       "    <tr style=\"text-align: right;\">\n",
       "      <th></th>\n",
       "      <th>Product</th>\n",
       "      <th>Product id</th>\n",
       "      <th>Segmentation</th>\n",
       "      <th>Qty</th>\n",
       "      <th>Sales</th>\n",
       "      <th>Month</th>\n",
       "    </tr>\n",
       "  </thead>\n",
       "  <tbody>\n",
       "    <tr>\n",
       "      <th>62219</th>\n",
       "      <td>Peak 456 GUM Pwdr Pouch 12x360g</td>\n",
       "      <td>1178076</td>\n",
       "      <td>GTNOM-RT - Minimart</td>\n",
       "      <td>1</td>\n",
       "      <td>1348.25</td>\n",
       "      <td>11</td>\n",
       "    </tr>\n",
       "    <tr>\n",
       "      <th>62220</th>\n",
       "      <td>Peak 456 GUM Pwdr Pouch 12x360g</td>\n",
       "      <td>1178076</td>\n",
       "      <td>GTNOM-RT - Minimart</td>\n",
       "      <td>1</td>\n",
       "      <td>1348.25</td>\n",
       "      <td>11</td>\n",
       "    </tr>\n",
       "    <tr>\n",
       "      <th>62221</th>\n",
       "      <td>Peak 456 GUM Pwdr Pouch 12x360g</td>\n",
       "      <td>1178076</td>\n",
       "      <td>GTNOM-RT - Minimart</td>\n",
       "      <td>1</td>\n",
       "      <td>1348.25</td>\n",
       "      <td>11</td>\n",
       "    </tr>\n",
       "    <tr>\n",
       "      <th>62222</th>\n",
       "      <td>Peak 456 GUM Pwdr Pouch 12x360g</td>\n",
       "      <td>1178076</td>\n",
       "      <td>GTNOM-RT - Kiosk</td>\n",
       "      <td>1</td>\n",
       "      <td>1348.25</td>\n",
       "      <td>11</td>\n",
       "    </tr>\n",
       "    <tr>\n",
       "      <th>62223</th>\n",
       "      <td>Peak 456 GUM Pwdr Pouch 12x360g</td>\n",
       "      <td>1178076</td>\n",
       "      <td>GTNOM-RT - Minimart</td>\n",
       "      <td>1</td>\n",
       "      <td>1348.25</td>\n",
       "      <td>11</td>\n",
       "    </tr>\n",
       "  </tbody>\n",
       "</table>\n",
       "</div>"
      ],
      "text/plain": [
       "                                Product  Product id         Segmentation  Qty  \\\n",
       "62219   Peak 456 GUM Pwdr Pouch 12x360g     1178076  GTNOM-RT - Minimart    1   \n",
       "62220   Peak 456 GUM Pwdr Pouch 12x360g     1178076  GTNOM-RT - Minimart    1   \n",
       "62221   Peak 456 GUM Pwdr Pouch 12x360g     1178076  GTNOM-RT - Minimart    1   \n",
       "62222   Peak 456 GUM Pwdr Pouch 12x360g     1178076     GTNOM-RT - Kiosk    1   \n",
       "62223   Peak 456 GUM Pwdr Pouch 12x360g     1178076  GTNOM-RT - Minimart    1   \n",
       "\n",
       "         Sales  Month  \n",
       "62219  1348.25     11  \n",
       "62220  1348.25     11  \n",
       "62221  1348.25     11  \n",
       "62222  1348.25     11  \n",
       "62223  1348.25     11  "
      ]
     },
     "execution_count": 3,
     "metadata": {},
     "output_type": "execute_result"
    }
   ],
   "source": [
    "# last five rows of the dataset\n",
    "df.tail()"
   ]
  },
  {
   "cell_type": "code",
   "execution_count": 4,
   "id": "48c97fd3",
   "metadata": {},
   "outputs": [
    {
     "data": {
      "text/plain": [
       "(62224, 6)"
      ]
     },
     "execution_count": 4,
     "metadata": {},
     "output_type": "execute_result"
    }
   ],
   "source": [
    "# shape of the dataset\n",
    "\n",
    "df.shape"
   ]
  },
  {
   "cell_type": "code",
   "execution_count": 5,
   "id": "d75441e2",
   "metadata": {},
   "outputs": [
    {
     "data": {
      "text/plain": [
       "Index(['Product', 'Product id', 'Segmentation', 'Qty', 'Sales', 'Month'], dtype='object')"
      ]
     },
     "execution_count": 5,
     "metadata": {},
     "output_type": "execute_result"
    }
   ],
   "source": [
    "# columns present in the dataset\n",
    "\n",
    "df.columns"
   ]
  },
  {
   "cell_type": "code",
   "execution_count": 6,
   "id": "18ad5d43",
   "metadata": {},
   "outputs": [
    {
     "name": "stdout",
     "output_type": "stream",
     "text": [
      "<class 'pandas.core.frame.DataFrame'>\n",
      "RangeIndex: 62224 entries, 0 to 62223\n",
      "Data columns (total 6 columns):\n",
      " #   Column        Non-Null Count  Dtype  \n",
      "---  ------        --------------  -----  \n",
      " 0   Product       62224 non-null  object \n",
      " 1   Product id    62224 non-null  int64  \n",
      " 2   Segmentation  62224 non-null  object \n",
      " 3   Qty           62224 non-null  int64  \n",
      " 4   Sales         62224 non-null  float64\n",
      " 5   Month         62224 non-null  int64  \n",
      "dtypes: float64(1), int64(3), object(2)\n",
      "memory usage: 2.8+ MB\n"
     ]
    }
   ],
   "source": [
    "# A concise summary of the dataset\n",
    "\n",
    "df.info()"
   ]
  },
  {
   "cell_type": "code",
   "execution_count": 7,
   "id": "49415926",
   "metadata": {},
   "outputs": [
    {
     "data": {
      "text/plain": [
       "Product         0\n",
       "Product id      0\n",
       "Segmentation    0\n",
       "Qty             0\n",
       "Sales           0\n",
       "Month           0\n",
       "dtype: int64"
      ]
     },
     "execution_count": 7,
     "metadata": {},
     "output_type": "execute_result"
    }
   ],
   "source": [
    "# checking for missing values\n",
    "\n",
    "df.isnull().sum()"
   ]
  },
  {
   "cell_type": "code",
   "execution_count": 8,
   "id": "1c000843",
   "metadata": {},
   "outputs": [
    {
     "data": {
      "text/html": [
       "<div>\n",
       "<style scoped>\n",
       "    .dataframe tbody tr th:only-of-type {\n",
       "        vertical-align: middle;\n",
       "    }\n",
       "\n",
       "    .dataframe tbody tr th {\n",
       "        vertical-align: top;\n",
       "    }\n",
       "\n",
       "    .dataframe thead th {\n",
       "        text-align: right;\n",
       "    }\n",
       "</style>\n",
       "<table border=\"1\" class=\"dataframe\">\n",
       "  <thead>\n",
       "    <tr style=\"text-align: right;\">\n",
       "      <th></th>\n",
       "      <th>Product id</th>\n",
       "      <th>Qty</th>\n",
       "      <th>Sales</th>\n",
       "      <th>Month</th>\n",
       "    </tr>\n",
       "  </thead>\n",
       "  <tbody>\n",
       "    <tr>\n",
       "      <th>count</th>\n",
       "      <td>6.222400e+04</td>\n",
       "      <td>62224.000000</td>\n",
       "      <td>6.222400e+04</td>\n",
       "      <td>62224.000000</td>\n",
       "    </tr>\n",
       "    <tr>\n",
       "      <th>mean</th>\n",
       "      <td>2.592445e+06</td>\n",
       "      <td>7.893755</td>\n",
       "      <td>1.451961e+04</td>\n",
       "      <td>5.968437</td>\n",
       "    </tr>\n",
       "    <tr>\n",
       "      <th>std</th>\n",
       "      <td>2.587221e+06</td>\n",
       "      <td>19.651899</td>\n",
       "      <td>1.303623e+05</td>\n",
       "      <td>3.366869</td>\n",
       "    </tr>\n",
       "    <tr>\n",
       "      <th>min</th>\n",
       "      <td>4.034780e+05</td>\n",
       "      <td>1.000000</td>\n",
       "      <td>3.885000e+01</td>\n",
       "      <td>1.000000</td>\n",
       "    </tr>\n",
       "    <tr>\n",
       "      <th>25%</th>\n",
       "      <td>1.176870e+06</td>\n",
       "      <td>1.000000</td>\n",
       "      <td>2.242000e+02</td>\n",
       "      <td>3.000000</td>\n",
       "    </tr>\n",
       "    <tr>\n",
       "      <th>50%</th>\n",
       "      <td>1.182533e+06</td>\n",
       "      <td>2.000000</td>\n",
       "      <td>9.549500e+02</td>\n",
       "      <td>6.000000</td>\n",
       "    </tr>\n",
       "    <tr>\n",
       "      <th>75%</th>\n",
       "      <td>7.050005e+06</td>\n",
       "      <td>6.000000</td>\n",
       "      <td>3.009210e+03</td>\n",
       "      <td>9.000000</td>\n",
       "    </tr>\n",
       "    <tr>\n",
       "      <th>max</th>\n",
       "      <td>7.050593e+06</td>\n",
       "      <td>1200.000000</td>\n",
       "      <td>1.707606e+07</td>\n",
       "      <td>12.000000</td>\n",
       "    </tr>\n",
       "  </tbody>\n",
       "</table>\n",
       "</div>"
      ],
      "text/plain": [
       "         Product id           Qty         Sales         Month\n",
       "count  6.222400e+04  62224.000000  6.222400e+04  62224.000000\n",
       "mean   2.592445e+06      7.893755  1.451961e+04      5.968437\n",
       "std    2.587221e+06     19.651899  1.303623e+05      3.366869\n",
       "min    4.034780e+05      1.000000  3.885000e+01      1.000000\n",
       "25%    1.176870e+06      1.000000  2.242000e+02      3.000000\n",
       "50%    1.182533e+06      2.000000  9.549500e+02      6.000000\n",
       "75%    7.050005e+06      6.000000  3.009210e+03      9.000000\n",
       "max    7.050593e+06   1200.000000  1.707606e+07     12.000000"
      ]
     },
     "execution_count": 8,
     "metadata": {},
     "output_type": "execute_result"
    }
   ],
   "source": [
    "# Getting description statistics summary\n",
    "df.describe()"
   ]
  },
  {
   "cell_type": "markdown",
   "id": "ba9ab02a",
   "metadata": {},
   "source": [
    "### EXPLORATORY DATA ANALYSIS"
   ]
  },
  {
   "cell_type": "markdown",
   "id": "41035091",
   "metadata": {},
   "source": [
    "#### WHAT IS THE OVERALL SALES TRED ?"
   ]
  },
  {
   "cell_type": "code",
   "execution_count": 9,
   "id": "76fdc1bf",
   "metadata": {},
   "outputs": [
    {
     "data": {
      "text/plain": [
       "1"
      ]
     },
     "execution_count": 9,
     "metadata": {},
     "output_type": "execute_result"
    }
   ],
   "source": [
    "df['Month'].min()"
   ]
  },
  {
   "cell_type": "code",
   "execution_count": 10,
   "id": "3bd568d2",
   "metadata": {},
   "outputs": [
    {
     "data": {
      "text/plain": [
       "12"
      ]
     },
     "execution_count": 10,
     "metadata": {},
     "output_type": "execute_result"
    }
   ],
   "source": [
    "df['Month'].max()"
   ]
  },
  {
   "cell_type": "code",
   "execution_count": 11,
   "id": "eb0a124c",
   "metadata": {},
   "outputs": [
    {
     "data": {
      "text/plain": [
       "0         1\n",
       "1         1\n",
       "2         1\n",
       "3         1\n",
       "4         1\n",
       "         ..\n",
       "62219    11\n",
       "62220    11\n",
       "62221    11\n",
       "62222    11\n",
       "62223    11\n",
       "Name: Month, Length: 62224, dtype: int64"
      ]
     },
     "execution_count": 11,
     "metadata": {},
     "output_type": "execute_result"
    }
   ],
   "source": [
    "df['Month']"
   ]
  },
  {
   "cell_type": "code",
   "execution_count": 12,
   "id": "01e8b123",
   "metadata": {},
   "outputs": [],
   "source": [
    "df_trend = df.groupby('Month').sum()['Sales'].reset_index()"
   ]
  },
  {
   "cell_type": "code",
   "execution_count": 13,
   "id": "898f26c7",
   "metadata": {},
   "outputs": [
    {
     "data": {
      "image/png": "[encoded data removed]",
      "text/plain": [
       "<Figure size 720x288 with 1 Axes>"
      ]
     },
     "metadata": {
      "needs_background": "light"
     },
     "output_type": "display_data"
    }
   ],
   "source": [
    "plt.figure(figsize=(10,4))\n",
    "plt.plot(df_trend['Month'], df_trend['Sales'], color='#b80045')\n",
    "plt.xlabel('Month Number')\n",
    "plt.ylabel('Sales')\n",
    "#plt.grid(True, which='both', color='grey', linewidth=1)\n",
    "plt.savefig('graph.jpeg')"
   ]
  },
  {
   "cell_type": "markdown",
   "id": "f13f129f",
   "metadata": {},
   "source": [
    "- <h4> WHICH ARE THE 1O PRODUCTS BY SALES ?"
   ]
  },
  {
   "cell_type": "code",
   "execution_count": 14,
   "id": "d2bed8c7",
   "metadata": {},
   "outputs": [
    {
     "data": {
      "text/html": [
       "<div>\n",
       "<style scoped>\n",
       "    .dataframe tbody tr th:only-of-type {\n",
       "        vertical-align: middle;\n",
       "    }\n",
       "\n",
       "    .dataframe tbody tr th {\n",
       "        vertical-align: top;\n",
       "    }\n",
       "\n",
       "    .dataframe thead th {\n",
       "        text-align: right;\n",
       "    }\n",
       "</style>\n",
       "<table border=\"1\" class=\"dataframe\">\n",
       "  <thead>\n",
       "    <tr style=\"text-align: right;\">\n",
       "      <th></th>\n",
       "      <th>Product</th>\n",
       "      <th>Product id</th>\n",
       "      <th>Segmentation</th>\n",
       "      <th>Qty</th>\n",
       "      <th>Sales</th>\n",
       "      <th>Month</th>\n",
       "    </tr>\n",
       "  </thead>\n",
       "  <tbody>\n",
       "    <tr>\n",
       "      <th>0</th>\n",
       "      <td>Peak Yoghurt Dr Plain Sweetened 24x100ml</td>\n",
       "      <td>1155370</td>\n",
       "      <td>ATOM-WS - Lockup Shop (Secondary Town)</td>\n",
       "      <td>30</td>\n",
       "      <td>39696.0</td>\n",
       "      <td>1</td>\n",
       "    </tr>\n",
       "    <tr>\n",
       "      <th>1</th>\n",
       "      <td>Peak Yoghurt Dr Plain Sweetened 24x100ml</td>\n",
       "      <td>1155370</td>\n",
       "      <td>GTOM-RT - Table Top</td>\n",
       "      <td>4</td>\n",
       "      <td>5292.8</td>\n",
       "      <td>1</td>\n",
       "    </tr>\n",
       "    <tr>\n",
       "      <th>2</th>\n",
       "      <td>Peak Yoghurt Dr Plain Sweetened 24x100ml</td>\n",
       "      <td>1155370</td>\n",
       "      <td>GTOM-RT - Table Top</td>\n",
       "      <td>2</td>\n",
       "      <td>2646.4</td>\n",
       "      <td>1</td>\n",
       "    </tr>\n",
       "    <tr>\n",
       "      <th>3</th>\n",
       "      <td>Peak Yoghurt Dr Plain Sweetened 24x100ml</td>\n",
       "      <td>1155370</td>\n",
       "      <td>GTOM-RT - Table Top</td>\n",
       "      <td>3</td>\n",
       "      <td>3969.6</td>\n",
       "      <td>1</td>\n",
       "    </tr>\n",
       "    <tr>\n",
       "      <th>4</th>\n",
       "      <td>Peak Yoghurt Dr Plain Sweetened 24x100ml</td>\n",
       "      <td>1155370</td>\n",
       "      <td>GTOM-RT - Table Top</td>\n",
       "      <td>10</td>\n",
       "      <td>13232.0</td>\n",
       "      <td>1</td>\n",
       "    </tr>\n",
       "  </tbody>\n",
       "</table>\n",
       "</div>"
      ],
      "text/plain": [
       "                                     Product  Product id  \\\n",
       "0   Peak Yoghurt Dr Plain Sweetened 24x100ml     1155370   \n",
       "1   Peak Yoghurt Dr Plain Sweetened 24x100ml     1155370   \n",
       "2   Peak Yoghurt Dr Plain Sweetened 24x100ml     1155370   \n",
       "3   Peak Yoghurt Dr Plain Sweetened 24x100ml     1155370   \n",
       "4   Peak Yoghurt Dr Plain Sweetened 24x100ml     1155370   \n",
       "\n",
       "                             Segmentation  Qty    Sales  Month  \n",
       "0  ATOM-WS - Lockup Shop (Secondary Town)   30  39696.0      1  \n",
       "1                     GTOM-RT - Table Top    4   5292.8      1  \n",
       "2                     GTOM-RT - Table Top    2   2646.4      1  \n",
       "3                     GTOM-RT - Table Top    3   3969.6      1  \n",
       "4                     GTOM-RT - Table Top   10  13232.0      1  "
      ]
     },
     "execution_count": 14,
     "metadata": {},
     "output_type": "execute_result"
    }
   ],
   "source": [
    "# Grouping product name column\n",
    "#df['MONTH']=df['MONTH'].str[0:]\n",
    "df['Month']=df['Month'].astype('int32')\n",
    "df.head()"
   ]
  },
  {
   "cell_type": "code",
   "execution_count": 15,
   "id": "e1d4248d",
   "metadata": {},
   "outputs": [
    {
     "data": {
      "text/html": [
       "<div>\n",
       "<style scoped>\n",
       "    .dataframe tbody tr th:only-of-type {\n",
       "        vertical-align: middle;\n",
       "    }\n",
       "\n",
       "    .dataframe tbody tr th {\n",
       "        vertical-align: top;\n",
       "    }\n",
       "\n",
       "    .dataframe thead th {\n",
       "        text-align: right;\n",
       "    }\n",
       "</style>\n",
       "<table border=\"1\" class=\"dataframe\">\n",
       "  <thead>\n",
       "    <tr style=\"text-align: right;\">\n",
       "      <th></th>\n",
       "      <th>Product id</th>\n",
       "      <th>Qty</th>\n",
       "      <th>Sales</th>\n",
       "    </tr>\n",
       "    <tr>\n",
       "      <th>Month</th>\n",
       "      <th></th>\n",
       "      <th></th>\n",
       "      <th></th>\n",
       "    </tr>\n",
       "  </thead>\n",
       "  <tbody>\n",
       "    <tr>\n",
       "      <th>1</th>\n",
       "      <td>17434476923</td>\n",
       "      <td>66458</td>\n",
       "      <td>8.592022e+07</td>\n",
       "    </tr>\n",
       "    <tr>\n",
       "      <th>2</th>\n",
       "      <td>18870873128</td>\n",
       "      <td>65275</td>\n",
       "      <td>6.377506e+07</td>\n",
       "    </tr>\n",
       "    <tr>\n",
       "      <th>3</th>\n",
       "      <td>19720424924</td>\n",
       "      <td>65514</td>\n",
       "      <td>6.863400e+07</td>\n",
       "    </tr>\n",
       "    <tr>\n",
       "      <th>4</th>\n",
       "      <td>16245843382</td>\n",
       "      <td>54461</td>\n",
       "      <td>8.511042e+07</td>\n",
       "    </tr>\n",
       "    <tr>\n",
       "      <th>5</th>\n",
       "      <td>19750583314</td>\n",
       "      <td>67731</td>\n",
       "      <td>1.032871e+08</td>\n",
       "    </tr>\n",
       "    <tr>\n",
       "      <th>6</th>\n",
       "      <td>14673011895</td>\n",
       "      <td>46113</td>\n",
       "      <td>9.825333e+07</td>\n",
       "    </tr>\n",
       "    <tr>\n",
       "      <th>7</th>\n",
       "      <td>10509499685</td>\n",
       "      <td>23464</td>\n",
       "      <td>5.056274e+07</td>\n",
       "    </tr>\n",
       "    <tr>\n",
       "      <th>8</th>\n",
       "      <td>14191488744</td>\n",
       "      <td>30865</td>\n",
       "      <td>1.007868e+08</td>\n",
       "    </tr>\n",
       "    <tr>\n",
       "      <th>9</th>\n",
       "      <td>3483897408</td>\n",
       "      <td>27867</td>\n",
       "      <td>1.062018e+08</td>\n",
       "    </tr>\n",
       "    <tr>\n",
       "      <th>10</th>\n",
       "      <td>9123758730</td>\n",
       "      <td>17394</td>\n",
       "      <td>5.068209e+07</td>\n",
       "    </tr>\n",
       "    <tr>\n",
       "      <th>11</th>\n",
       "      <td>6866372327</td>\n",
       "      <td>12361</td>\n",
       "      <td>3.785561e+07</td>\n",
       "    </tr>\n",
       "    <tr>\n",
       "      <th>12</th>\n",
       "      <td>10442042342</td>\n",
       "      <td>13678</td>\n",
       "      <td>5.239895e+07</td>\n",
       "    </tr>\n",
       "  </tbody>\n",
       "</table>\n",
       "</div>"
      ],
      "text/plain": [
       "        Product id    Qty         Sales\n",
       "Month                                  \n",
       "1      17434476923  66458  8.592022e+07\n",
       "2      18870873128  65275  6.377506e+07\n",
       "3      19720424924  65514  6.863400e+07\n",
       "4      16245843382  54461  8.511042e+07\n",
       "5      19750583314  67731  1.032871e+08\n",
       "6      14673011895  46113  9.825333e+07\n",
       "7      10509499685  23464  5.056274e+07\n",
       "8      14191488744  30865  1.007868e+08\n",
       "9       3483897408  27867  1.062018e+08\n",
       "10      9123758730  17394  5.068209e+07\n",
       "11      6866372327  12361  3.785561e+07\n",
       "12     10442042342  13678  5.239895e+07"
      ]
     },
     "execution_count": 15,
     "metadata": {},
     "output_type": "execute_result"
    }
   ],
   "source": [
    "results = df.groupby('Month').sum()\n",
    "results"
   ]
  },
  {
   "cell_type": "code",
   "execution_count": 16,
   "id": "86c7c05b",
   "metadata": {},
   "outputs": [
    {
     "data": {
      "image/png": "[encoded data removed]",
      "text/plain": [
       "<Figure size 432x288 with 1 Axes>"
      ]
     },
     "metadata": {
      "needs_background": "light"
     },
     "output_type": "display_data"
    }
   ],
   "source": [
    "months = range(1,13)\n",
    "plt.bar(months, results['Sales'])\n",
    "\n",
    "plt.xticks(months)\n",
    "plt.xlabel('Month Number')\n",
    "\n",
    "plt.ylabel('Sales')\n",
    "plt.show()"
   ]
  },
  {
   "cell_type": "code",
   "execution_count": 17,
   "id": "d9b82e35",
   "metadata": {},
   "outputs": [
    {
     "data": {
      "text/html": [
       "<div>\n",
       "<style scoped>\n",
       "    .dataframe tbody tr th:only-of-type {\n",
       "        vertical-align: middle;\n",
       "    }\n",
       "\n",
       "    .dataframe tbody tr th {\n",
       "        vertical-align: top;\n",
       "    }\n",
       "\n",
       "    .dataframe thead th {\n",
       "        text-align: right;\n",
       "    }\n",
       "</style>\n",
       "<table border=\"1\" class=\"dataframe\">\n",
       "  <thead>\n",
       "    <tr style=\"text-align: right;\">\n",
       "      <th></th>\n",
       "      <th>Sales</th>\n",
       "    </tr>\n",
       "    <tr>\n",
       "      <th>Product</th>\n",
       "      <th></th>\n",
       "    </tr>\n",
       "  </thead>\n",
       "  <tbody>\n",
       "    <tr>\n",
       "      <th>Three Crowns Evm Reg Can 24x150g</th>\n",
       "      <td>2.363825e+08</td>\n",
       "    </tr>\n",
       "    <tr>\n",
       "      <th>Peak Pwdr Sac 210x14g</th>\n",
       "      <td>2.247596e+08</td>\n",
       "    </tr>\n",
       "    <tr>\n",
       "      <th>Peak Filled Evm Can 24x150g</th>\n",
       "      <td>1.223246e+08</td>\n",
       "    </tr>\n",
       "    <tr>\n",
       "      <th>Peak Pwdr Pouch 12x360g</th>\n",
       "      <td>6.868322e+07</td>\n",
       "    </tr>\n",
       "    <tr>\n",
       "      <th>Peak Filled Evm Can 48x150g</th>\n",
       "      <td>2.880818e+07</td>\n",
       "    </tr>\n",
       "    <tr>\n",
       "      <th>Three Crowns Pwdr Pouch 12x350g</th>\n",
       "      <td>2.633237e+07</td>\n",
       "    </tr>\n",
       "    <tr>\n",
       "      <th>Peak 123 GUM Pwdr Pouch 12x360g</th>\n",
       "      <td>2.288563e+07</td>\n",
       "    </tr>\n",
       "    <tr>\n",
       "      <th>Three Crowns Pwdr Sac 210x12g</th>\n",
       "      <td>2.213484e+07</td>\n",
       "    </tr>\n",
       "    <tr>\n",
       "      <th>My Boy Eldorin Box 12x400g</th>\n",
       "      <td>1.855955e+07</td>\n",
       "    </tr>\n",
       "    <tr>\n",
       "      <th>Peak Full Cream Pwdr Pouch 6x800g</th>\n",
       "      <td>1.582937e+07</td>\n",
       "    </tr>\n",
       "  </tbody>\n",
       "</table>\n",
       "</div>"
      ],
      "text/plain": [
       "                                           Sales\n",
       "Product                                         \n",
       " Three Crowns Evm Reg Can 24x150g   2.363825e+08\n",
       " Peak Pwdr Sac 210x14g              2.247596e+08\n",
       " Peak Filled Evm Can 24x150g        1.223246e+08\n",
       " Peak Pwdr Pouch 12x360g            6.868322e+07\n",
       " Peak Filled Evm Can 48x150g        2.880818e+07\n",
       " Three Crowns Pwdr Pouch 12x350g    2.633237e+07\n",
       " Peak 123 GUM Pwdr Pouch 12x360g    2.288563e+07\n",
       " Three Crowns Pwdr Sac 210x12g      2.213484e+07\n",
       " My Boy Eldorin Box 12x400g         1.855955e+07\n",
       " Peak Full Cream Pwdr Pouch 6x800g  1.582937e+07"
      ]
     },
     "execution_count": 17,
     "metadata": {},
     "output_type": "execute_result"
    }
   ],
   "source": [
    "#Top 10 Product\n",
    "result = pd.DataFrame(df.groupby('Product').sum()['Sales'])\n",
    "SORT = result.sort_values('Sales', ascending=False)  # Sorting in descending order\n",
    "top_10 = SORT[:10]\n",
    "top_10"
   ]
  },
  {
   "cell_type": "code",
   "execution_count": 18,
   "id": "2ebfdbef",
   "metadata": {},
   "outputs": [
    {
     "data": {
      "image/png": "[encoded data removed]",
      "text/plain": [
       "<Figure size 720x432 with 1 Axes>"
      ]
     },
     "metadata": {
      "needs_background": "light"
     },
     "output_type": "display_data"
    }
   ],
   "source": [
    "# Plotting the top 10 products\n",
    "'''plt.figure(figsize=(10, 6))\n",
    "plt.bar(top_10.index, top_10['Sales'])\n",
    "plt.xlabel('Product')\n",
    "plt.ylabel('Total Sales')\n",
    "plt.title('Top 10 Products by Total Sales')\n",
    "plt.xticks(rotation=45)\n",
    "plt.tight_layout()\n",
    "\n",
    "plt.show()'''\n",
    "\n",
    "plt.figure(figsize=(10, 6))\n",
    "plt.barh(top_10.index, top_10['Sales'],color='#b80045')\n",
    "plt.xlabel('Sales')\n",
    "plt.ylabel('Product')\n",
    "plt.title('Top 10 Products by Sales')\n",
    "plt.gca().invert_yaxis()  # Invert y-axis for better readability\n",
    "plt.show()\n",
    "#plt.savefig('graph.png')"
   ]
  },
  {
   "cell_type": "code",
   "execution_count": 19,
   "id": "4aaed3b5",
   "metadata": {},
   "outputs": [
    {
     "data": {
      "text/html": [
       "<div>\n",
       "<style scoped>\n",
       "    .dataframe tbody tr th:only-of-type {\n",
       "        vertical-align: middle;\n",
       "    }\n",
       "\n",
       "    .dataframe tbody tr th {\n",
       "        vertical-align: top;\n",
       "    }\n",
       "\n",
       "    .dataframe thead th {\n",
       "        text-align: right;\n",
       "    }\n",
       "</style>\n",
       "<table border=\"1\" class=\"dataframe\">\n",
       "  <thead>\n",
       "    <tr style=\"text-align: right;\">\n",
       "      <th></th>\n",
       "      <th>Sales</th>\n",
       "    </tr>\n",
       "    <tr>\n",
       "      <th>Product</th>\n",
       "      <th></th>\n",
       "    </tr>\n",
       "  </thead>\n",
       "  <tbody>\n",
       "    <tr>\n",
       "      <th>Frs Friso Gold Wheat Box 12x300g NG v19</th>\n",
       "      <td>2281.22</td>\n",
       "    </tr>\n",
       "    <tr>\n",
       "      <th>Frs Friso Gold Wheat Box 12x300g NG v18</th>\n",
       "      <td>2281.22</td>\n",
       "    </tr>\n",
       "    <tr>\n",
       "      <th>Frs Friso Gold Wheat Box 12x300g NG v37</th>\n",
       "      <td>2281.22</td>\n",
       "    </tr>\n",
       "    <tr>\n",
       "      <th>Frs Friso Gold Wheat Box 12x300g NG v20</th>\n",
       "      <td>2281.22</td>\n",
       "    </tr>\n",
       "    <tr>\n",
       "      <th>Frs Friso Gold Wheat Box 12x300g NG v21</th>\n",
       "      <td>2281.22</td>\n",
       "    </tr>\n",
       "    <tr>\n",
       "      <th>Frs Friso Gold Wheat Box 12x300g NG v22</th>\n",
       "      <td>2281.22</td>\n",
       "    </tr>\n",
       "    <tr>\n",
       "      <th>Frs Friso Gold Wheat Box 12x300g NG v23</th>\n",
       "      <td>2281.22</td>\n",
       "    </tr>\n",
       "    <tr>\n",
       "      <th>Frs Friso Gold Wheat Box 12x300g NG v38</th>\n",
       "      <td>2281.22</td>\n",
       "    </tr>\n",
       "    <tr>\n",
       "      <th>Frs Friso Gold Wheat Box 12x300g NG v24</th>\n",
       "      <td>2281.22</td>\n",
       "    </tr>\n",
       "    <tr>\n",
       "      <th>Frs Friso Gold Wheat Box 12x300g NG v26</th>\n",
       "      <td>2281.22</td>\n",
       "    </tr>\n",
       "  </tbody>\n",
       "</table>\n",
       "</div>"
      ],
      "text/plain": [
       "                                            Sales\n",
       "Product                                          \n",
       " Frs Friso Gold Wheat Box 12x300g NG v19  2281.22\n",
       " Frs Friso Gold Wheat Box 12x300g NG v18  2281.22\n",
       " Frs Friso Gold Wheat Box 12x300g NG v37  2281.22\n",
       " Frs Friso Gold Wheat Box 12x300g NG v20  2281.22\n",
       " Frs Friso Gold Wheat Box 12x300g NG v21  2281.22\n",
       " Frs Friso Gold Wheat Box 12x300g NG v22  2281.22\n",
       " Frs Friso Gold Wheat Box 12x300g NG v23  2281.22\n",
       " Frs Friso Gold Wheat Box 12x300g NG v38  2281.22\n",
       " Frs Friso Gold Wheat Box 12x300g NG v24  2281.22\n",
       " Frs Friso Gold Wheat Box 12x300g NG v26  2281.22"
      ]
     },
     "execution_count": 19,
     "metadata": {},
     "output_type": "execute_result"
    }
   ],
   "source": [
    "#least 10 Product\n",
    "result = pd.DataFrame(df.groupby('Product').sum()['Sales'])\n",
    "SORT = result.sort_values('Sales', ascending=True)\n",
    "#result\n",
    "least_10 = SORT[:10]\n",
    "least_10"
   ]
  },
  {
   "cell_type": "code",
   "execution_count": 43,
   "id": "8b10422d",
   "metadata": {},
   "outputs": [
    {
     "data": {
      "text/html": [
       "<div>\n",
       "<style scoped>\n",
       "    .dataframe tbody tr th:only-of-type {\n",
       "        vertical-align: middle;\n",
       "    }\n",
       "\n",
       "    .dataframe tbody tr th {\n",
       "        vertical-align: top;\n",
       "    }\n",
       "\n",
       "    .dataframe thead th {\n",
       "        text-align: right;\n",
       "    }\n",
       "</style>\n",
       "<table border=\"1\" class=\"dataframe\">\n",
       "  <thead>\n",
       "    <tr style=\"text-align: right;\">\n",
       "      <th></th>\n",
       "      <th>Sales</th>\n",
       "    </tr>\n",
       "    <tr>\n",
       "      <th>Segmentation</th>\n",
       "      <th></th>\n",
       "    </tr>\n",
       "  </thead>\n",
       "  <tbody>\n",
       "    <tr>\n",
       "      <th>GTNOM-RT - Kiosk</th>\n",
       "      <td>2.191089e+08</td>\n",
       "    </tr>\n",
       "    <tr>\n",
       "      <th>GTOM-RT - Lockup Shop</th>\n",
       "      <td>1.311520e+08</td>\n",
       "    </tr>\n",
       "    <tr>\n",
       "      <th>ATB - Back Office (Wholesales)</th>\n",
       "      <td>1.071934e+08</td>\n",
       "    </tr>\n",
       "    <tr>\n",
       "      <th>GTNOM-RT - Minimart</th>\n",
       "      <td>9.798699e+07</td>\n",
       "    </tr>\n",
       "    <tr>\n",
       "      <th>GTOM-RT - Kiosk</th>\n",
       "      <td>7.019244e+07</td>\n",
       "    </tr>\n",
       "    <tr>\n",
       "      <th>ATOM-WS - Lockup Shop (Secondary Town)</th>\n",
       "      <td>6.100492e+07</td>\n",
       "    </tr>\n",
       "    <tr>\n",
       "      <th>GT - Back Office (Retailer)</th>\n",
       "      <td>4.703843e+07</td>\n",
       "    </tr>\n",
       "    <tr>\n",
       "      <th>GT - Back Office (Wholesaler)</th>\n",
       "      <td>3.192763e+07</td>\n",
       "    </tr>\n",
       "    <tr>\n",
       "      <th>GTOM-RT - Open Stall</th>\n",
       "      <td>2.566857e+07</td>\n",
       "    </tr>\n",
       "    <tr>\n",
       "      <th>FSB - Back Office (Maishayi)</th>\n",
       "      <td>2.441633e+07</td>\n",
       "    </tr>\n",
       "  </tbody>\n",
       "</table>\n",
       "</div>"
      ],
      "text/plain": [
       "                                               Sales\n",
       "Segmentation                                        \n",
       "GTNOM-RT - Kiosk                        2.191089e+08\n",
       "GTOM-RT - Lockup Shop                   1.311520e+08\n",
       "ATB - Back Office (Wholesales)          1.071934e+08\n",
       "GTNOM-RT - Minimart                     9.798699e+07\n",
       "GTOM-RT - Kiosk                         7.019244e+07\n",
       "ATOM-WS - Lockup Shop (Secondary Town)  6.100492e+07\n",
       "GT - Back Office (Retailer)             4.703843e+07\n",
       "GT - Back Office (Wholesaler)           3.192763e+07\n",
       "GTOM-RT - Open Stall                    2.566857e+07\n",
       "FSB - Back Office (Maishayi)            2.441633e+07"
      ]
     },
     "execution_count": 43,
     "metadata": {},
     "output_type": "execute_result"
    }
   ],
   "source": [
    "#Top 10 Segmentation\n",
    "result = pd.DataFrame(df.groupby('Segmentation').sum()['Sales'])\n",
    "SORT = result.sort_values('Sales', ascending=False)  # Sorting in descending order\n",
    "tops_10 = SORT[:10]\n",
    "tops_10"
   ]
  },
  {
   "cell_type": "code",
   "execution_count": 49,
   "id": "4840561e",
   "metadata": {},
   "outputs": [
    {
     "data": {
      "image/png": "[encoded data removed]",
      "text/plain": [
       "<Figure size 720x432 with 1 Axes>"
      ]
     },
     "metadata": {
      "needs_background": "light"
     },
     "output_type": "display_data"
    }
   ],
   "source": [
    "import matplotlib.pyplot as plt\n",
    "\n",
    "plt.figure(figsize=(10, 6))\n",
    "plt.barh(tops_10.index, tops_10['Sales'],color='#b80045')\n",
    "plt.xlabel('Sales')\n",
    "plt.ylabel('Segmentation')\n",
    "plt.title('Top 10 Segmentation by Sales')\n",
    "#plt.gca().invert_yaxis()  # Invert y-axis for better readability\n",
    "plt.show()\n",
    "#plt.savefig('graph.png')"
   ]
  },
  {
   "cell_type": "code",
   "execution_count": 50,
   "id": "6e6147c2",
   "metadata": {},
   "outputs": [
    {
     "data": {
      "text/html": [
       "<div>\n",
       "<style scoped>\n",
       "    .dataframe tbody tr th:only-of-type {\n",
       "        vertical-align: middle;\n",
       "    }\n",
       "\n",
       "    .dataframe tbody tr th {\n",
       "        vertical-align: top;\n",
       "    }\n",
       "\n",
       "    .dataframe thead th {\n",
       "        text-align: right;\n",
       "    }\n",
       "</style>\n",
       "<table border=\"1\" class=\"dataframe\">\n",
       "  <thead>\n",
       "    <tr style=\"text-align: right;\">\n",
       "      <th></th>\n",
       "      <th>Sales</th>\n",
       "    </tr>\n",
       "    <tr>\n",
       "      <th>Segmentation</th>\n",
       "      <th></th>\n",
       "    </tr>\n",
       "  </thead>\n",
       "  <tbody>\n",
       "    <tr>\n",
       "      <th>MTNOM-RT - Supermarket</th>\n",
       "      <td>490.72</td>\n",
       "    </tr>\n",
       "    <tr>\n",
       "      <th>ATOM-RT - Open Stall (Periodic Market)</th>\n",
       "      <td>449680.32</td>\n",
       "    </tr>\n",
       "    <tr>\n",
       "      <th>GTNOM-RT - Table Top</th>\n",
       "      <td>3722892.97</td>\n",
       "    </tr>\n",
       "    <tr>\n",
       "      <th>GTOM-WS - Lockup Shop</th>\n",
       "      <td>4425848.93</td>\n",
       "    </tr>\n",
       "    <tr>\n",
       "      <th>GOTH1 - GT - Others</th>\n",
       "      <td>5178256.13</td>\n",
       "    </tr>\n",
       "    <tr>\n",
       "      <th>FSBOTH1 - FSB-Others</th>\n",
       "      <td>7159604.93</td>\n",
       "    </tr>\n",
       "    <tr>\n",
       "      <th>GTNOM-RT - Neighborhood Store</th>\n",
       "      <td>13618957.28</td>\n",
       "    </tr>\n",
       "    <tr>\n",
       "      <th>ATNOM-RT - Neighborhood Store</th>\n",
       "      <td>14539125.48</td>\n",
       "    </tr>\n",
       "    <tr>\n",
       "      <th>GTOM-RT - Table Top</th>\n",
       "      <td>18717451.50</td>\n",
       "    </tr>\n",
       "    <tr>\n",
       "      <th>GTNOM-WS - Neighborhood Store</th>\n",
       "      <td>19966304.54</td>\n",
       "    </tr>\n",
       "  </tbody>\n",
       "</table>\n",
       "</div>"
      ],
      "text/plain": [
       "                                              Sales\n",
       "Segmentation                                       \n",
       "MTNOM-RT - Supermarket                       490.72\n",
       "ATOM-RT - Open Stall (Periodic Market)    449680.32\n",
       "GTNOM-RT - Table Top                     3722892.97\n",
       "GTOM-WS - Lockup Shop                    4425848.93\n",
       "GOTH1 - GT - Others                      5178256.13\n",
       "FSBOTH1 - FSB-Others                     7159604.93\n",
       "GTNOM-RT - Neighborhood Store           13618957.28\n",
       "ATNOM-RT - Neighborhood Store           14539125.48\n",
       "GTOM-RT - Table Top                     18717451.50\n",
       "GTNOM-WS - Neighborhood Store           19966304.54"
      ]
     },
     "execution_count": 50,
     "metadata": {},
     "output_type": "execute_result"
    }
   ],
   "source": [
    "#least 10 Segmentation\n",
    "result = pd.DataFrame(df.groupby('Segmentation').sum()['Sales'])\n",
    "SORT = result.sort_values('Sales', ascending=True)\n",
    "#result\n",
    "leasts_10 = SORT[:10]\n",
    "leasts_10"
   ]
  },
  {
   "cell_type": "code",
   "execution_count": 53,
   "id": "7eb382ba",
   "metadata": {},
   "outputs": [
    {
     "data": {
      "image/png": "[encoded data removed]",
      "text/plain": [
       "<Figure size 720x432 with 1 Axes>"
      ]
     },
     "metadata": {
      "needs_background": "light"
     },
     "output_type": "display_data"
    }
   ],
   "source": [
    "plt.figure(figsize=(10, 6))\n",
    "plt.barh(leasts_10.index, leasts_10['Sales'],color='#b80045')\n",
    "plt.xlabel('Sales')\n",
    "plt.ylabel('Segemtation')\n",
    "plt.title('Least 10 Segmenation by Sales')\n",
    "plt.gca().invert_yaxis()  # Invert y-axis for better readability\n",
    "#plt.show()\n",
    "#plt.savefig('graph.png')"
   ]
  },
  {
   "cell_type": "markdown",
   "id": "48a5aa8a",
   "metadata": {},
   "source": [
    "# ARIMA and Seasonal ARIMA\n",
    "\n",
    "\n",
    "## Autoregressive Integrated Moving Averages\n"
   ]
  },
  {
   "cell_type": "code",
   "execution_count": 1,
   "id": "c97fb56a",
   "metadata": {},
   "outputs": [
    {
     "name": "stderr",
     "output_type": "stream",
     "text": [
      "C:\\Users\\JOBEN\\anaconda3\\lib\\site-packages\\statsmodels\\tsa\\base\\tsa_model.py:7: FutureWarning: pandas.Int64Index is deprecated and will be removed from pandas in a future version. Use pandas.Index with the appropriate dtype instead.\n",
      "  from pandas import (to_datetime, Int64Index, DatetimeIndex, Period,\n",
      "C:\\Users\\JOBEN\\anaconda3\\lib\\site-packages\\statsmodels\\tsa\\base\\tsa_model.py:7: FutureWarning: pandas.Float64Index is deprecated and will be removed from pandas in a future version. Use pandas.Index with the appropriate dtype instead.\n",
      "  from pandas import (to_datetime, Int64Index, DatetimeIndex, Period,\n"
     ]
    }
   ],
   "source": [
    "import numpy as np\n",
    "import pandas as pd\n",
    "from pmdarima import auto_arima\n",
    "import matplotlib.pyplot as plt\n",
    "%matplotlib inline"
   ]
  },
  {
   "cell_type": "code",
   "execution_count": 2,
   "id": "f82069b8",
   "metadata": {},
   "outputs": [],
   "source": [
    "df=pd.read_csv('sales data.csv', parse_dates = True)"
   ]
  },
  {
   "cell_type": "code",
   "execution_count": 3,
   "id": "997e3b1a",
   "metadata": {},
   "outputs": [
    {
     "data": {
      "text/html": [
       "<div>\n",
       "<style scoped>\n",
       "    .dataframe tbody tr th:only-of-type {\n",
       "        vertical-align: middle;\n",
       "    }\n",
       "\n",
       "    .dataframe tbody tr th {\n",
       "        vertical-align: top;\n",
       "    }\n",
       "\n",
       "    .dataframe thead th {\n",
       "        text-align: right;\n",
       "    }\n",
       "</style>\n",
       "<table border=\"1\" class=\"dataframe\">\n",
       "  <thead>\n",
       "    <tr style=\"text-align: right;\">\n",
       "      <th></th>\n",
       "      <th>Sales</th>\n",
       "      <th>MONTH</th>\n",
       "    </tr>\n",
       "  </thead>\n",
       "  <tbody>\n",
       "    <tr>\n",
       "      <th>0</th>\n",
       "      <td>39696.0</td>\n",
       "      <td>JAN</td>\n",
       "    </tr>\n",
       "    <tr>\n",
       "      <th>1</th>\n",
       "      <td>5292.8</td>\n",
       "      <td>JAN</td>\n",
       "    </tr>\n",
       "    <tr>\n",
       "      <th>2</th>\n",
       "      <td>2646.4</td>\n",
       "      <td>JAN</td>\n",
       "    </tr>\n",
       "    <tr>\n",
       "      <th>3</th>\n",
       "      <td>3969.6</td>\n",
       "      <td>JAN</td>\n",
       "    </tr>\n",
       "    <tr>\n",
       "      <th>4</th>\n",
       "      <td>13232.0</td>\n",
       "      <td>JAN</td>\n",
       "    </tr>\n",
       "  </tbody>\n",
       "</table>\n",
       "</div>"
      ],
      "text/plain": [
       "     Sales MONTH\n",
       "0  39696.0   JAN\n",
       "1   5292.8   JAN\n",
       "2   2646.4   JAN\n",
       "3   3969.6   JAN\n",
       "4  13232.0   JAN"
      ]
     },
     "execution_count": 3,
     "metadata": {},
     "output_type": "execute_result"
    }
   ],
   "source": [
    "df.head()"
   ]
  },
  {
   "cell_type": "code",
   "execution_count": 4,
   "id": "b61920d0",
   "metadata": {},
   "outputs": [
    {
     "data": {
      "text/html": [
       "<div>\n",
       "<style scoped>\n",
       "    .dataframe tbody tr th:only-of-type {\n",
       "        vertical-align: middle;\n",
       "    }\n",
       "\n",
       "    .dataframe tbody tr th {\n",
       "        vertical-align: top;\n",
       "    }\n",
       "\n",
       "    .dataframe thead th {\n",
       "        text-align: right;\n",
       "    }\n",
       "</style>\n",
       "<table border=\"1\" class=\"dataframe\">\n",
       "  <thead>\n",
       "    <tr style=\"text-align: right;\">\n",
       "      <th></th>\n",
       "      <th>Sales</th>\n",
       "      <th>MONTH</th>\n",
       "    </tr>\n",
       "  </thead>\n",
       "  <tbody>\n",
       "    <tr>\n",
       "      <th>139</th>\n",
       "      <td>441.04</td>\n",
       "      <td>DEC</td>\n",
       "    </tr>\n",
       "    <tr>\n",
       "      <th>140</th>\n",
       "      <td>330.78</td>\n",
       "      <td>DEC</td>\n",
       "    </tr>\n",
       "    <tr>\n",
       "      <th>141</th>\n",
       "      <td>441.04</td>\n",
       "      <td>DEC</td>\n",
       "    </tr>\n",
       "    <tr>\n",
       "      <th>142</th>\n",
       "      <td>441.04</td>\n",
       "      <td>DEC</td>\n",
       "    </tr>\n",
       "    <tr>\n",
       "      <th>143</th>\n",
       "      <td>330.78</td>\n",
       "      <td>DEC</td>\n",
       "    </tr>\n",
       "  </tbody>\n",
       "</table>\n",
       "</div>"
      ],
      "text/plain": [
       "      Sales MONTH\n",
       "139  441.04   DEC\n",
       "140  330.78   DEC\n",
       "141  441.04   DEC\n",
       "142  441.04   DEC\n",
       "143  330.78   DEC"
      ]
     },
     "execution_count": 4,
     "metadata": {},
     "output_type": "execute_result"
    }
   ],
   "source": [
    "df.tail()"
   ]
  },
  {
   "cell_type": "code",
   "execution_count": 5,
   "id": "91cfd2c5",
   "metadata": {},
   "outputs": [],
   "source": [
    "df.set_index('MONTH',inplace=True)"
   ]
  },
  {
   "cell_type": "markdown",
   "id": "763fd513",
   "metadata": {},
   "source": [
    "##  Visualize the Data"
   ]
  },
  {
   "cell_type": "code",
   "execution_count": 6,
   "id": "62082344",
   "metadata": {},
   "outputs": [
    {
     "data": {
      "text/plain": [
       "<AxesSubplot:xlabel='MONTH'>"
      ]
     },
     "execution_count": 6,
     "metadata": {},
     "output_type": "execute_result"
    },
    {
     "data": {
      "image/png": "[encoded data removed]",
      "text/plain": [
       "<Figure size 432x288 with 1 Axes>"
      ]
     },
     "metadata": {
      "needs_background": "light"
     },
     "output_type": "display_data"
    }
   ],
   "source": [
    "df.plot()"
   ]
  },
  {
   "cell_type": "code",
   "execution_count": 8,
   "id": "f5caf5af",
   "metadata": {},
   "outputs": [],
   "source": [
    "#training and test set\n",
    "training = df.iloc[:-31,:]\n",
    "test = df.iloc[-31:, :]\n"
   ]
  },
  {
   "cell_type": "markdown",
   "id": "46f54830",
   "metadata": {},
   "source": [
    "# CREATING THE SARIMA MODEL"
   ]
  },
  {
   "cell_type": "code",
   "execution_count": 9,
   "id": "a0013b43",
   "metadata": {},
   "outputs": [],
   "source": [
    "#SARIMA model\n",
    "model = auto_arima(y = training.Sales,\n",
    "                   m = 7)"
   ]
  },
  {
   "cell_type": "code",
   "execution_count": 10,
   "id": "063e1dce",
   "metadata": {},
   "outputs": [
    {
     "name": "stderr",
     "output_type": "stream",
     "text": [
      "C:\\Users\\JOBEN\\anaconda3\\lib\\site-packages\\statsmodels\\tsa\\base\\tsa_model.py:376: ValueWarning: No supported index is available. Prediction results will be given with an integer index beginning at `start`.\n",
      "  warnings.warn('No supported index is available.'\n"
     ]
    }
   ],
   "source": [
    "#Predictions\n",
    "predictions = pd.Series(model.predict(n_periods = len(test)))\n",
    "predictions.index = test.index\n",
    "#predictions[:4]"
   ]
  },
  {
   "cell_type": "code",
   "execution_count": 11,
   "id": "93e86f06",
   "metadata": {},
   "outputs": [
    {
     "data": {
      "text/plain": [
       "<AxesSubplot:xlabel='MONTH'>"
      ]
     },
     "execution_count": 11,
     "metadata": {},
     "output_type": "execute_result"
    },
    {
     "data": {
      "image/png": "[encoded data removed]",
      "text/plain": [
       "<Figure size 864x576 with 1 Axes>"
      ]
     },
     "metadata": {
      "needs_background": "light"
     },
     "output_type": "display_data"
    }
   ],
   "source": [
    "# Visualization\n",
    "training['Sales'].plot(figsize=(12, 8), legend=True, label='Sales')\n",
    "test['Sales'].plot(legend=True, label='Forecast')\n",
    "predictions.plot(legend=True, label='Predictions')"
   ]
  },
  {
   "cell_type": "markdown",
   "id": "bb1d4e07",
   "metadata": {},
   "source": [
    "# ARIMA MODEL RESULTS"
   ]
  },
  {
   "cell_type": "code",
   "execution_count": 12,
   "id": "caa3316a",
   "metadata": {},
   "outputs": [],
   "source": [
    "from statsmodels.tsa.arima_model import ARIMA"
   ]
  },
  {
   "cell_type": "code",
   "execution_count": 13,
   "id": "0b183b4e",
   "metadata": {},
   "outputs": [
    {
     "name": "stderr",
     "output_type": "stream",
     "text": [
      "C:\\Users\\JOBEN\\anaconda3\\lib\\site-packages\\statsmodels\\tsa\\base\\tsa_model.py:578: ValueWarning: An unsupported index was provided and will be ignored when e.g. forecasting.\n",
      "  warnings.warn('An unsupported index was provided and will be'\n",
      "C:\\Users\\JOBEN\\anaconda3\\lib\\site-packages\\statsmodels\\tsa\\base\\tsa_model.py:578: ValueWarning: An unsupported index was provided and will be ignored when e.g. forecasting.\n",
      "  warnings.warn('An unsupported index was provided and will be'\n",
      "C:\\Users\\JOBEN\\anaconda3\\lib\\site-packages\\statsmodels\\tsa\\base\\tsa_model.py:578: ValueWarning: An unsupported index was provided and will be ignored when e.g. forecasting.\n",
      "  warnings.warn('An unsupported index was provided and will be'\n",
      "C:\\Users\\JOBEN\\anaconda3\\lib\\site-packages\\statsmodels\\tsa\\statespace\\sarimax.py:966: UserWarning: Non-stationary starting autoregressive parameters found. Using zeros as starting parameters.\n",
      "  warn('Non-stationary starting autoregressive parameters'\n",
      "C:\\Users\\JOBEN\\anaconda3\\lib\\site-packages\\statsmodels\\tsa\\statespace\\sarimax.py:978: UserWarning: Non-invertible starting MA parameters found. Using zeros as starting parameters.\n",
      "  warn('Non-invertible starting MA parameters found.'\n"
     ]
    },
    {
     "name": "stdout",
     "output_type": "stream",
     "text": [
      "                               SARIMAX Results                                \n",
      "==============================================================================\n",
      "Dep. Variable:                  Sales   No. Observations:                  144\n",
      "Model:                 ARIMA(1, 1, 1)   Log Likelihood               -1345.105\n",
      "Date:                Tue, 26 Sep 2023   AIC                           2696.211\n",
      "Time:                        14:41:45   BIC                           2705.099\n",
      "Sample:                             0   HQIC                          2699.823\n",
      "                                - 144                                         \n",
      "Covariance Type:                  opg                                         \n",
      "==============================================================================\n",
      "                 coef    std err          z      P>|z|      [0.025      0.975]\n",
      "------------------------------------------------------------------------------\n",
      "ar.L1          0.2346      0.042      5.605      0.000       0.153       0.317\n",
      "ma.L1         -0.8768      0.065    -13.537      0.000      -1.004      -0.750\n",
      "sigma2      8.946e+06   1.25e-09   7.13e+15      0.000    8.95e+06    8.95e+06\n",
      "===================================================================================\n",
      "Ljung-Box (L1) (Q):                  13.34   Jarque-Bera (JB):               622.90\n",
      "Prob(Q):                              0.00   Prob(JB):                         0.00\n",
      "Heteroskedasticity (H):               0.14   Skew:                            -1.41\n",
      "Prob(H) (two-sided):                  0.00   Kurtosis:                        12.83\n",
      "===================================================================================\n",
      "\n",
      "Warnings:\n",
      "[1] Covariance matrix calculated using the outer product of gradients (complex-step).\n"
     ]
    }
   ],
   "source": [
    "from statsmodels.tsa.arima.model import ARIMA\n",
    "\n",
    "# Define the ARIMA model\n",
    "model = ARIMA(df['Sales'], order=(1, 1, 1))\n",
    "\n",
    "# Fit the model\n",
    "model_fit = model.fit()\n",
    "\n",
    "# Get summary information\n",
    "print(model_fit.summary())"
   ]
  },
  {
   "cell_type": "code",
   "execution_count": null,
   "id": "c775bf8d",
   "metadata": {},
   "outputs": [],
   "source": []
  }
 ],
 "metadata": {
  "kernelspec": {
   "display_name": "Python 3 (ipykernel)",
   "language": "python",
   "name": "python3"
  },
  "language_info": {
   "codemirror_mode": {
    "name": "ipython",
    "version": 3
   },
   "file_extension": ".py",
   "mimetype": "text/x-python",
   "name": "python",
   "nbconvert_exporter": "python",
   "pygments_lexer": "ipython3",
   "version": "3.9.12"
  }
 },
 "nbformat": 4,
 "nbformat_minor": 5
}
